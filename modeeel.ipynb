{
 "cells": [
  {
   "cell_type": "code",
   "execution_count": null,
   "id": "8b6df96d",
   "metadata": {
    "scrolled": true
   },
   "outputs": [
    {
     "name": "stdout",
     "output_type": "stream",
     "text": [
      " * Serving Flask app '__main__' (lazy loading)\n",
      " * Environment: production\n",
      "\u001b[31m   WARNING: This is a development server. Do not use it in a production deployment.\u001b[0m\n",
      "\u001b[2m   Use a production WSGI server instead.\u001b[0m\n",
      " * Debug mode: off\n"
     ]
    },
    {
     "name": "stderr",
     "output_type": "stream",
     "text": [
      " * Running on http://127.0.0.1:5000/ (Press CTRL+C to quit)\n",
      "[2022-02-08 23:36:16,912] ERROR in app: Exception on / [POST]\n",
      "Traceback (most recent call last):\n",
      "  File \"/opt/homebrew/Caskroom/miniforge/base/lib/python3.9/site-packages/flask/app.py\", line 2073, in wsgi_app\n",
      "    response = self.full_dispatch_request()\n",
      "  File \"/opt/homebrew/Caskroom/miniforge/base/lib/python3.9/site-packages/flask/app.py\", line 1518, in full_dispatch_request\n",
      "    rv = self.handle_user_exception(e)\n",
      "  File \"/opt/homebrew/Caskroom/miniforge/base/lib/python3.9/site-packages/flask_cors/extension.py\", line 165, in wrapped_function\n",
      "    return cors_after_request(app.make_response(f(*args, **kwargs)))\n",
      "  File \"/opt/homebrew/Caskroom/miniforge/base/lib/python3.9/site-packages/flask/app.py\", line 1516, in full_dispatch_request\n",
      "    rv = self.dispatch_request()\n",
      "  File \"/opt/homebrew/Caskroom/miniforge/base/lib/python3.9/site-packages/flask/app.py\", line 1502, in dispatch_request\n",
      "    return self.ensure_sync(self.view_functions[rule.endpoint])(**req.view_args)\n",
      "  File \"/var/folders/41/wq9wrhb15cq67gdyxtl29sr80000gn/T/ipykernel_21484/2201064383.py\", line 30, in index\n",
      "    prediction=predict(inputes)\n",
      "  File \"/var/folders/41/wq9wrhb15cq67gdyxtl29sr80000gn/T/ipykernel_21484/2201064383.py\", line 24, in predict\n",
      "    return model_rf.predict([np.array(inputes)].values)[0]\n",
      "AttributeError: 'list' object has no attribute 'values'\n",
      "127.0.0.1 - - [08/Feb/2022 23:36:16] \"POST / HTTP/1.1\" 500 -\n"
     ]
    }
   ],
   "source": [
    "import numpy as np\n",
    "import pandas as pd\n",
    "from sklearn.linear_model import LogisticRegression\n",
    "from sklearn.model_selection import train_test_split\n",
    "from sklearn.ensemble import RandomForestClassifier\n",
    "from flask import Flask,request\n",
    "from flask_cors import CORS\n",
    "\n",
    "cors = CORS(app, resources={r\"/api/*\": {\"origins\": \"*\"}})\n",
    "app = Flask(__name__)\n",
    "\n",
    "\n",
    "\n",
    "def fit():\n",
    "    data = pd.read_csv(\"Titanic_Cleaned_data.csv\")\n",
    "    data=pd.DataFrame(data)\n",
    "    X=data.iloc[:,2:9]\n",
    "    y=data.iloc[:,1:2]\n",
    "    X_train, X_test, y_train, y_test = train_test_split(X, y, test_size=0.2, random_state=0)\n",
    "    model_rf = RandomForestClassifier(n_estimators=10)\n",
    "    model_rf.fit(X_train, np.array(y_train).ravel())\n",
    "    \n",
    "def predict(inputes):\n",
    "    return model_rf.predict([np.array(inputes)])[0]\n",
    "\n",
    "@app.route('/',methods=['POST'])\n",
    "def index():\n",
    "    inputes=[request.get_json()[\"pclass\"],request.get_json()[\"sex\"],request.get_json()[\"age\"],request.get_json()[\"sibsp\"],\n",
    "    request.get_json()[\"parch\"],request.get_json()[\"fare\"],request.get_json()[\"alone\"]]\n",
    "    prediction=predict(inputes)\n",
    "    return str(prediction)\n",
    "\n",
    "if __name__ == \"__main__\":\n",
    "    fit()\n",
    "    CORS(app)\n",
    "    app.run()\n"
   ]
  },
  {
   "cell_type": "code",
   "execution_count": null,
   "id": "45ed3578",
   "metadata": {},
   "outputs": [],
   "source": []
  },
  {
   "cell_type": "code",
   "execution_count": null,
   "id": "570f6351",
   "metadata": {},
   "outputs": [],
   "source": [
    "final=[np.array(input)]\n",
    "prediction=model_rf.predict(final)\n",
    "print(prediction)\n",
    "return prediction\n",
    "\n",
    "\n",
    "predict([1,1,1,1,1,1,1])"
   ]
  }
 ],
 "metadata": {
  "kernelspec": {
   "display_name": "Python 3 (ipykernel)",
   "language": "python",
   "name": "python3"
  },
  "language_info": {
   "codemirror_mode": {
    "name": "ipython",
    "version": 3
   },
   "file_extension": ".py",
   "mimetype": "text/x-python",
   "name": "python",
   "nbconvert_exporter": "python",
   "pygments_lexer": "ipython3",
   "version": "3.9.7"
  }
 },
 "nbformat": 4,
 "nbformat_minor": 5
}
